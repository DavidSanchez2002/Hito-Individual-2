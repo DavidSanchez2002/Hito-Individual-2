{
 "cells": [
  {
   "cell_type": "code",
   "execution_count": 7,
   "id": "684c154e",
   "metadata": {},
   "outputs": [
    {
     "data": {
      "text/plain": [
       "'https://images.chesscomfiles.com/uploads/v1/user/163569169.1dd354f4.160x160o.8f011c177cb3.jpeg'"
      ]
     },
     "execution_count": 7,
     "metadata": {},
     "output_type": "execute_result"
    }
   ],
   "source": [
    "from bs4 import BeautifulSoup\n",
    "import requests\n",
    "\n",
    "session = requests.Session()\n",
    "\n",
    "s = session.get('https://www.chess.com/member/davidsanchez123')\n",
    "soup = BeautifulSoup(s.text, 'html.parser')\n",
    "soup.find('img')['src']"
   ]
  },
  {
   "cell_type": "code",
   "execution_count": 9,
   "id": "c77bb9b6",
   "metadata": {},
   "outputs": [
    {
     "name": "stdout",
     "output_type": "stream",
     "text": [
      "<Response [503]>\n",
      "hola\n"
     ]
    },
    {
     "data": {
      "text/plain": [
       "'https://images.chesscomfiles.com/uploads/v1/user/163569169.1dd354f4.160x160o.8f011c177cb3.jpeg'"
      ]
     },
     "execution_count": 9,
     "metadata": {},
     "output_type": "execute_result"
    }
   ],
   "source": [
    "from bs4 import BeautifulSoup\n",
    "import requests\n",
    "\n",
    "# Start the session\n",
    "session = requests.Session()\n",
    "\n",
    "# Create the payload\n",
    "payload = {'_username':'DavidSanchez123', \n",
    "          '_password':'David123Sanchez123'\n",
    "         }\n",
    "\n",
    "# Post the payload to the site to log in\n",
    "s = session.post(\"https://www.chess.com/login_check\", data=payload)\n",
    "\n",
    "print(s)\n",
    "\n",
    "# Navigate to the next page and scrape the data\n",
    "s = session.get('https://www.chess.com/member/davidsanchez123')\n",
    "\n",
    "soup = BeautifulSoup(s.text, 'html.parser')\n",
    "print(\"hola\")\n",
    "soup.find('img')['src']\n"
   ]
  },
  {
   "cell_type": "code",
   "execution_count": null,
   "id": "cb75c86c",
   "metadata": {},
   "outputs": [],
   "source": []
  }
 ],
 "metadata": {
  "kernelspec": {
   "display_name": "Python 3",
   "language": "python",
   "name": "python3"
  },
  "language_info": {
   "codemirror_mode": {
    "name": "ipython",
    "version": 3
   },
   "file_extension": ".py",
   "mimetype": "text/x-python",
   "name": "python",
   "nbconvert_exporter": "python",
   "pygments_lexer": "ipython3",
   "version": "3.8.8"
  }
 },
 "nbformat": 4,
 "nbformat_minor": 5
}
