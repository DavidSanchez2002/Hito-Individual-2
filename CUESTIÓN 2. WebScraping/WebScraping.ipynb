{
 "cells": [
  {
   "cell_type": "code",
   "execution_count": 38,
   "id": "54e05ca5",
   "metadata": {},
   "outputs": [
    {
     "name": "stdout",
     "output_type": "stream",
     "text": [
      "Inicio de sesion <Response [200]>\n"
     ]
    }
   ],
   "source": [
    "import requests\n",
    "from bs4 import BeautifulSoup\n",
    "\n",
    "#Direccion url a hacer el login\n",
    "url = \"https://www.chess.com/login_and_go\"\n",
    "\n",
    "user='DavidSanchez123'\n",
    "clave=''\n",
    "\n",
    "\n",
    "#payload es un diccionario con los datos enviados mediante post\n",
    "payload = {\n",
    "    #En un simple login por lo general es:\n",
    "    \"Usuario\":user,\n",
    "    \"Password\":clave,\n",
    "    \"bntEntrar\":'login',\n",
    "}\n",
    "\n",
    "#Envia una peticion POST\n",
    "response = requests.post(url, data=payload)\n",
    "\n",
    "#Obtiene el estado de la respuesta a la peticion\n",
    "estado = response.status_code\n",
    "\n",
    "if estado == 200: \n",
    "    \n",
    "        s = requests.Session()\n",
    "        r = s.post(url,data=payload)\n",
    "        print('Inicio de sesion',str(r))\n",
    "        \n",
    "else:\n",
    "    print (\"Error: \"+str(estado)+\"-> \" +user+\":\"+clave+\"\\n\")"
   ]
  },
  {
   "cell_type": "markdown",
   "id": "667caf43",
   "metadata": {},
   "source": [
    "Como vemos el login que hemos echo nos da como codigo respuesta el numero 200\n",
    "\n",
    "Response [200] = El código de respuesta de estado satisfactorio HTTP 200 OK indica que la solicitud ha tenido éxito."
   ]
  }
 ],
 "metadata": {
  "kernelspec": {
   "display_name": "Python 3",
   "language": "python",
   "name": "python3"
  },
  "language_info": {
   "codemirror_mode": {
    "name": "ipython",
    "version": 3
   },
   "file_extension": ".py",
   "mimetype": "text/x-python",
   "name": "python",
   "nbconvert_exporter": "python",
   "pygments_lexer": "ipython3",
   "version": "3.8.8"
  }
 },
 "nbformat": 4,
 "nbformat_minor": 5
}
